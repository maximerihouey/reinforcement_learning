{
 "cells": [
  {
   "cell_type": "code",
   "execution_count": 2,
   "metadata": {},
   "outputs": [],
   "source": [
    "import numpy as np\n",
    "import matplotlib.pyplot as plt\n",
    "%matplotlib inline "
   ]
  },
  {
   "cell_type": "code",
   "execution_count": 9,
   "metadata": {
    "collapsed": true
   },
   "outputs": [],
   "source": [
    "class Bandit:\n",
    "    def __init__(self, m):\n",
    "        self.m = m\n",
    "        # parameters for mu (prior is N(0,1))\n",
    "        self.m0 = 0\n",
    "        self.lambda0 = 1\n",
    "        self.tau = 1\n",
    "        # for convenience\n",
    "        self.sum_x = 0\n",
    "        self.N = 0\n",
    "    \n",
    "    def sample(self):\n",
    "        # generates a sample from a distribution N(m0, lambda0)\n",
    "        return self.m0 + (np.random.randn() / np.sqrt(self.lambda0))\n",
    "        \n",
    "    def pull(self):\n",
    "        drawn_value = np.random.randn() + self.m\n",
    "        self.sum_x += drawn_value\n",
    "        # update\n",
    "        self.lambda0 += self.tau\n",
    "        self.m0 = (self.tau*self.sum_x) / self.lambda0\n",
    "        # not necessaruy\n",
    "        self.N += 1\n",
    "        return drawn_value"
   ]
  },
  {
   "cell_type": "code",
   "execution_count": 14,
   "metadata": {},
   "outputs": [
    {
     "name": "stdout",
     "output_type": "stream",
     "text": [
      "1.0 / 0.7426735944661921 / 2\n",
      "2.0 / 0.17371097329129975 / 1\n",
      "3.0 / 3.0211421877641915 / 997\n"
     ]
    },
    {
     "data": {
      "image/png": "[encoded data removed]",
      "text/plain": [
       "<matplotlib.figure.Figure at 0x7f273f8e5ba8>"
      ]
     },
     "metadata": {},
     "output_type": "display_data"
    }
   ],
   "source": [
    "bandits = [Bandit(1.0), Bandit(2.0), Bandit(3.0)]\n",
    "M = len(bandits)\n",
    "N = 1000\n",
    "\n",
    "data = np.empty(N)\n",
    "\n",
    "for i in range(N):\n",
    "    j = np.argmax([bandit.sample() for bandit in bandits])\n",
    "    x = bandits[j].pull()\n",
    "    data[i] = x\n",
    "\n",
    "# plots\n",
    "cumulative_average = np.cumsum(data) / (np.arange(N) + 1)\n",
    "plt.plot(cumulative_average)\n",
    "\n",
    "# written outputs\n",
    "print(\"\\n\".join([\"{} / {} / {}\".format(bandit.m, np.mean([bandit.sample() for i in range(1000)]), bandit.N) for bandit in bandits]))"
   ]
  },
  {
   "cell_type": "code",
   "execution_count": 7,
   "metadata": {},
   "outputs": [
    {
     "data": {
      "text/plain": [
       "2.3025850929940459"
      ]
     },
     "execution_count": 7,
     "metadata": {},
     "output_type": "execute_result"
    }
   ],
   "source": [
    "np.log(10)"
   ]
  },
  {
   "cell_type": "code",
   "execution_count": null,
   "metadata": {
    "collapsed": true
   },
   "outputs": [],
   "source": []
  }
 ],
 "metadata": {
  "kernelspec": {
   "display_name": "Python 3",
   "language": "python",
   "name": "python3"
  },
  "language_info": {
   "codemirror_mode": {
    "name": "ipython",
    "version": 3
   },
   "file_extension": ".py",
   "mimetype": "text/x-python",
   "name": "python",
   "nbconvert_exporter": "python",
   "pygments_lexer": "ipython3",
   "version": "3.6.1"
  }
 },
 "nbformat": 4,
 "nbformat_minor": 2
}
