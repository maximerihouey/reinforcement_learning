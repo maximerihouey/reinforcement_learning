{
 "cells": [
  {
   "cell_type": "code",
   "execution_count": 1,
   "metadata": {
    "collapsed": false
   },
   "outputs": [
    {
     "name": "stderr",
     "output_type": "stream",
     "text": [
      "/home/maxime/anaconda2/envs/py34/lib/python3.4/site-packages/matplotlib/font_manager.py:280: UserWarning: Matplotlib is building the font cache using fc-list. This may take a moment.\n",
      "  'Matplotlib is building the font cache using fc-list. '\n"
     ]
    }
   ],
   "source": [
    "import numpy as np\n",
    "import matplotlib.pyplot as plt\n",
    "%matplotlib inline "
   ]
  },
  {
   "cell_type": "code",
   "execution_count": 4,
   "metadata": {
    "collapsed": true
   },
   "outputs": [],
   "source": [
    "class Bandit:\n",
    "    def __init__(self, m, initial_value):\n",
    "        self.m = m\n",
    "        self.mean = initial_value\n",
    "        self.N = 0\n",
    "    \n",
    "    def pull(self):\n",
    "        drawn_value = np.random.randn() + self.m\n",
    "        # update\n",
    "        self.N += 1\n",
    "        self.mean = (1.0 - (1.0/self.N))*self.mean + (1.0/self.N)*drawn_value\n",
    "        return drawn_value"
   ]
  },
  {
   "cell_type": "code",
   "execution_count": 11,
   "metadata": {
    "collapsed": false
   },
   "outputs": [
    {
     "name": "stdout",
     "output_type": "stream",
     "text": [
      "1.0 / -0.4987640272889151 / 1\n",
      "2.0 / 2.6560989828418 / 2\n",
      "3.0 / 3.0306003359427 / 997\n"
     ]
    },
    {
     "data": {
      "image/png": "[encoded data removed]",
      "text/plain": [
       "<matplotlib.figure.Figure at 0x7f80c9cd8588>"
      ]
     },
     "metadata": {},
     "output_type": "display_data"
    }
   ],
   "source": [
    "initial_value = 10.0\n",
    "bandits = [Bandit(1.0, initial_value), Bandit(2.0, initial_value), Bandit(3.0, initial_value)]\n",
    "M = len(bandits)\n",
    "N = 1000\n",
    "\n",
    "data = np.empty(N)\n",
    "\n",
    "for i in range(N):\n",
    "    j = np.argmax([bandit.mean for bandit in bandits])\n",
    "    x = bandits[j].pull()\n",
    "    data[i] = x\n",
    "\n",
    "# plots\n",
    "cumulative_average = np.cumsum(data) / (np.arange(N) + 1)\n",
    "plt.plot(cumulative_average)\n",
    "\n",
    "# written outputs\n",
    "print(\"\\n\".join([\"{} / {} / {}\".format(bandit.m, bandit.mean, bandit.N) for bandit in bandits]))"
   ]
  },
  {
   "cell_type": "code",
   "execution_count": null,
   "metadata": {
    "collapsed": true
   },
   "outputs": [],
   "source": []
  }
 ],
 "metadata": {
  "kernelspec": {
   "display_name": "Python 3",
   "language": "python",
   "name": "python3"
  },
  "language_info": {
   "codemirror_mode": {
    "name": "ipython",
    "version": 3
   },
   "file_extension": ".py",
   "mimetype": "text/x-python",
   "name": "python",
   "nbconvert_exporter": "python",
   "pygments_lexer": "ipython3",
   "version": "3.4.5"
  }
 },
 "nbformat": 4,
 "nbformat_minor": 2
}
