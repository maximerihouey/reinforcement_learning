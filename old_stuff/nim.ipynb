{
 "cells": [
  {
   "cell_type": "code",
   "execution_count": 293,
   "metadata": {
    "collapsed": true
   },
   "outputs": [],
   "source": [
    "import numpy as np\n",
    "import random\n",
    "import matplotlib.pyplot as plt\n",
    "from collections import defaultdict\n",
    "import pprint\n",
    "\n",
    "from sklearn.linear_model import SGDClassifier\n",
    "from sklearn.neural_network import MLPRegressor"
   ]
  },
  {
   "cell_type": "code",
   "execution_count": 347,
   "metadata": {
    "collapsed": true
   },
   "outputs": [],
   "source": [
    "# Nim's parameters\n",
    "\n",
    "SIZE_BIN = 20\n",
    "MAX_TAKE = 3\n",
    "\n",
    "POSSIBLE_STATES = list(range(1, SIZE_BIN+1))\n",
    "POSSIBLE_ACTIONS = list(range(1, MAX_TAKE+1))"
   ]
  },
  {
   "cell_type": "code",
   "execution_count": 389,
   "metadata": {
    "collapsed": false
   },
   "outputs": [
    {
     "data": {
      "text/plain": [
       "((20, 1), (20, 3))"
      ]
     },
     "execution_count": 389,
     "metadata": {},
     "output_type": "execute_result"
    }
   ],
   "source": [
    "# Initializing model with a first mini-batch\n",
    "model = MLPRegressor(\n",
    "    max_iter = 1000,\n",
    "    tol = 1e-5,\n",
    "    learning_rate='invscaling'\n",
    ")\n",
    "#     hidden_layer_sizes=(30,),\n",
    "\n",
    "X_init = np.array(POSSIBLE_STATES).reshape(-1, 1)\n",
    "default_target = []\n",
    "default_target = [1] + [0]*(len(POSSIBLE_ACTIONS)-1)\n",
    "y_init = np.array([default_target]*len(POSSIBLE_STATES))\n",
    "\n",
    "model = model.partial_fit(X_init, y_init)\n",
    "\n",
    "X_init.shape, np.array(y_init).shape"
   ]
  },
  {
   "cell_type": "code",
   "execution_count": 395,
   "metadata": {
    "collapsed": false
   },
   "outputs": [
    {
     "name": "stdout",
     "output_type": "stream",
     "text": [
      "1 [[ 0.04171096  0.03156471  0.08458685]] 3\n",
      "2 [[ 0.01837306  0.00626456  0.12255725]] 3\n",
      "3 [[-0.00706971 -0.03568727  0.09608911]] 3\n",
      "4 [[-0.00306677 -0.05271086 -0.03946113]] 1\n",
      "5 [[ 0.0572652  -0.02716813 -0.03073965]] 1\n",
      "6 [[ 0.04239039 -0.02056064 -0.02058461]] 1\n",
      "7 [[ 0.03091764 -0.01546438 -0.01275215]] 1\n",
      "8 [[ 0.03091764 -0.01546438 -0.01275215]] 1\n",
      "9 [[ 0.03091764 -0.01546438 -0.01275215]] 1\n",
      "10 [[ 0.03091764 -0.01546438 -0.01275215]] 1\n",
      "11 [[ 0.03091764 -0.01546438 -0.01275215]] 1\n",
      "12 [[ 0.03091764 -0.01546438 -0.01275215]] 1\n",
      "13 [[ 0.03091764 -0.01546438 -0.01275215]] 1\n",
      "14 [[ 0.03091764 -0.01546438 -0.01275215]] 1\n",
      "15 [[ 0.03091764 -0.01546438 -0.01275215]] 1\n",
      "16 [[ 0.03091764 -0.01546438 -0.01275215]] 1\n",
      "17 [[ 0.03091764 -0.01546438 -0.01275215]] 1\n",
      "18 [[ 0.03091764 -0.01546438 -0.01275215]] 1\n",
      "19 [[ 0.03091764 -0.01546438 -0.01275215]] 1\n",
      "20 [[ 0.03091764 -0.01546438 -0.01275215]] 1\n"
     ]
    }
   ],
   "source": [
    "# Showing chosen action for each possible state\n",
    "for possible_state in POSSIBLE_STATES:\n",
    "    chosen_action = model.predict(possible_state)\n",
    "    print possible_state, chosen_action, np.argmax(chosen_action)+1"
   ]
  },
  {
   "cell_type": "code",
   "execution_count": 391,
   "metadata": {
    "collapsed": true
   },
   "outputs": [],
   "source": [
    "def random_action():\n",
    "    return np.random.randint(1, MAX_TAKE+1)\n",
    "\n",
    "\n",
    "def player_move_and_win_check(state, player_is_random):\n",
    "    # Player move\n",
    "    if player_is_random:\n",
    "        action = random_action()\n",
    "    else:\n",
    "        qval = model.predict(state)\n",
    "        action = np.argmax(qval)+1\n",
    "    new_state = state - action\n",
    "    \n",
    "    # Win check\n",
    "    if new_state <= 0:\n",
    "        # Player win\n",
    "        games.append(1)\n",
    "        if player_is_random:\n",
    "            random_games.append(1)\n",
    "        else:\n",
    "            chosen_games.append(1)\n",
    "        return 0, action, False, 1\n",
    "    else:\n",
    "        return new_state, action, True, 0\n",
    "\n",
    "def adversary_move_and_win_check(state):\n",
    "    if state <= MAX_TAKE:\n",
    "        # Adversary wins\n",
    "        games.append(-1)\n",
    "        if player_is_random:\n",
    "            random_games.append(-1)\n",
    "        else:\n",
    "            chosen_games.append(-1)\n",
    "        return 0, MAX_TAKE, False, -1\n",
    "    else:\n",
    "        adversary_action = random_action()\n",
    "        return state - adversary_action, adversary_action, True, 0\n",
    "\n",
    "def add_to_plays_description(player_is_random, player_first, player_won, nb_rounds):\n",
    "    play_type = 'random_play' if player_is_random else 'chosen_play'\n",
    "    player_sequence = 'player_first' if player_first else 'player_second'\n",
    "    play_outcome = 'win' if player_won else 'loss'\n",
    "    plays_description[play_type][player_sequence][play_outcome] += 1\n",
    "    plays_description[play_type][player_sequence]['#rounds'] += nb_rounds"
   ]
  },
  {
   "cell_type": "code",
   "execution_count": 392,
   "metadata": {
    "collapsed": false
   },
   "outputs": [
    {
     "name": "stdout",
     "output_type": "stream",
     "text": [
      "0\n",
      "2000\n",
      "4000\n",
      "6000\n",
      "8000\n",
      "10000\n",
      "12000\n",
      "14000\n",
      "16000\n",
      "18000\n",
      "random plays: 10008 | chosen plays: 9992\n",
      "wins: 9195 | losses: 10805\n",
      "{   'chosen_play': {   'player_first': {   '#rounds': 28844,\n",
      "                                           'loss': 1811,\n",
      "                                           'win': 3164},\n",
      "                       'player_second': {   '#rounds': 28076,\n",
      "                                            'loss': 1774,\n",
      "                                            'win': 3243}},\n",
      "    'random_play': {   'player_first': {   '#rounds': 25898,\n",
      "                                           'loss': 3535,\n",
      "                                           'win': 1466},\n",
      "                       'player_second': {   '#rounds': 27009,\n",
      "                                            'loss': 3685,\n",
      "                                            'win': 1322}}}\n"
     ]
    }
   ],
   "source": [
    "nb_epochs = 20000\n",
    "logging_rate = int(nb_epochs/10)\n",
    "random_plays = 0\n",
    "chosen_plays = 0\n",
    "epsilon = 0.5\n",
    "games = []\n",
    "random_games = []\n",
    "chosen_games = []\n",
    "update_stages = defaultdict(int)\n",
    "plays_description = {\n",
    "    'random_play':{\n",
    "        'player_first':{\n",
    "            'win': 0,\n",
    "            'loss': 0,\n",
    "            '#rounds': 0\n",
    "        },\n",
    "        'player_second':{\n",
    "            'win': 0,\n",
    "            'loss': 0,\n",
    "            '#rounds': 0\n",
    "        }\n",
    "    },\n",
    "    'chosen_play':{\n",
    "        'player_first':{\n",
    "            'win': 0,\n",
    "            'loss': 0,\n",
    "            '#rounds': 0\n",
    "        },\n",
    "        'player_second':{\n",
    "            'win': 0,\n",
    "            'loss': 0,\n",
    "            '#rounds': 0\n",
    "        }\n",
    "    }\n",
    "}\n",
    "    \n",
    "\n",
    "for i in range(nb_epochs):\n",
    "    if i % logging_rate == 0:\n",
    "        print i\n",
    "    \n",
    "    # Initializing the game\n",
    "    state = SIZE_BIN\n",
    "    tmp_states = []\n",
    "    still_going = True\n",
    "    reward = 0\n",
    "    update = 0\n",
    "    player_is_random = random.random() < epsilon\n",
    "    player_first = np.random.choice([True, False])\n",
    "    if player_is_random:\n",
    "        random_plays += 1\n",
    "    else:\n",
    "        chosen_plays += 1\n",
    "    \n",
    "    # Playing\n",
    "    while still_going:\n",
    "        \n",
    "        if player_first:\n",
    "            # Player move and win check\n",
    "            middle_state, action, still_going, reward = player_move_and_win_check(state, player_is_random)\n",
    "            \n",
    "            # Continue if no win\n",
    "            if still_going:\n",
    "                # Adversary move and win check\n",
    "                new_state, adversary_action, still_going, reward = adversary_move_and_win_check(middle_state)\n",
    "            \n",
    "            considered_state = state\n",
    "        else:\n",
    "            # Adversary move and win check\n",
    "            middle_state, adversary_action, still_going, reward = adversary_move_and_win_check(state)\n",
    "            \n",
    "            # Continue if no win\n",
    "            if still_going:\n",
    "                # Adversary move and win check\n",
    "                new_state, action, still_going, reward = player_move_and_win_check(middle_state, player_is_random)\n",
    "            \n",
    "            considered_state = middle_state\n",
    "        \n",
    "        # Machine learning\n",
    "        tmp_states.append([considered_state, action])\n",
    "        if not still_going:\n",
    "            add_to_plays_description(player_is_random, player_first, reward > 0, len(tmp_states))\n",
    "            \n",
    "            for tmp_state, tmp_action in tmp_states:\n",
    "#                 qval = model.predict(tmp_state)\n",
    "#                 y = np.zeros((1,MAX_TAKE))\n",
    "#                 y[:] = qval[:]\n",
    "#                 maxQ = np.max(np.abs(y))\n",
    "#                 y[0][tmp_action-1] = (reward*maxQ)\n",
    "                y = np.zeros((1,MAX_TAKE))\n",
    "                y[0][tmp_action-1] = reward / float(len(tmp_states))\n",
    "\n",
    "                update_stages[(tmp_state, tmp_action, reward)] += 1\n",
    "                model.partial_fit(np.array([tmp_state]).reshape(-1, 1), y)\n",
    "        \n",
    "        state = new_state\n",
    "\n",
    "# Statistical descriptions\n",
    "games_np = np.array(games)\n",
    "print \"random plays: \"+str(random_plays)+\" | chosen plays: \"+str(chosen_plays)\n",
    "print \"wins: \"+str(np.sum(games_np == 1))+\" | losses: \"+str(np.sum(games_np == -1))\n",
    "pprint.PrettyPrinter(indent=4).pprint(plays_description)"
   ]
  },
  {
   "cell_type": "code",
   "execution_count": 393,
   "metadata": {
    "collapsed": false
   },
   "outputs": [
    {
     "data": {
      "image/png": "[encoded data removed]",
      "text/plain": [
       "<matplotlib.figure.Figure at 0x7f1fcf703490>"
      ]
     },
     "metadata": {},
     "output_type": "display_data"
    },
    {
     "data": {
      "image/png": "[encoded data removed]",
      "text/plain": [
       "<matplotlib.figure.Figure at 0x7f1fce8cbd10>"
      ]
     },
     "metadata": {},
     "output_type": "display_data"
    }
   ],
   "source": [
    "plt.figure(1)\n",
    "plt.plot(np.cumsum(games))\n",
    "\n",
    "plt.figure(2)\n",
    "plt.plot(np.cumsum(random_games), label=\"random\")\n",
    "plt.plot(np.cumsum(chosen_games), label=\"chosen\")\n",
    "plt.legend(loc=0)\n",
    "\n",
    "plt.show()"
   ]
  },
  {
   "cell_type": "code",
   "execution_count": 394,
   "metadata": {
    "collapsed": false
   },
   "outputs": [
    {
     "name": "stdout",
     "output_type": "stream",
     "text": [
      "--- random_play\n",
      "player_first 5.17856428714\n",
      "player_second 5.39424805273\n",
      "--- chosen_play\n",
      "player_first 5.79778894472\n",
      "player_second 5.59617301176\n"
     ]
    }
   ],
   "source": [
    "# Mean rounds duration\n",
    "for play_type in ['random_play', 'chosen_play']:\n",
    "    print \"--- \"+str(play_type)\n",
    "    for player_sequence in ['player_first', 'player_second']:\n",
    "        nb_plays = plays_description[play_type][player_sequence]['win'] + plays_description[play_type][player_sequence]['loss']\n",
    "        print player_sequence, plays_description[play_type][player_sequence]['#rounds'] / float(nb_plays)"
   ]
  },
  {
   "cell_type": "code",
   "execution_count": 190,
   "metadata": {
    "collapsed": false
   },
   "outputs": [
    {
     "data": {
      "text/plain": [
       "MLPRegressor(activation='relu', alpha=0.0001, batch_size='auto', beta_1=0.9,\n",
       "       beta_2=0.999, early_stopping=False, epsilon=1e-08,\n",
       "       hidden_layer_sizes=(100,), learning_rate='constant',\n",
       "       learning_rate_init=0.001, max_iter=200, momentum=0.9,\n",
       "       nesterovs_momentum=True, power_t=0.5, random_state=None,\n",
       "       shuffle=True, solver='adam', tol=0.0001, validation_fraction=0.1,\n",
       "       verbose=False, warm_start=False)"
      ]
     },
     "execution_count": 190,
     "metadata": {},
     "output_type": "execute_result"
    }
   ],
   "source": [
    "model"
   ]
  },
  {
   "cell_type": "code",
   "execution_count": 191,
   "metadata": {
    "collapsed": true
   },
   "outputs": [],
   "source": [
    "# statistical interpretation of the results\n"
   ]
  },
  {
   "cell_type": "code",
   "execution_count": null,
   "metadata": {
    "collapsed": false
   },
   "outputs": [],
   "source": []
  },
  {
   "cell_type": "code",
   "execution_count": null,
   "metadata": {
    "collapsed": false
   },
   "outputs": [],
   "source": []
  },
  {
   "cell_type": "code",
   "execution_count": null,
   "metadata": {
    "collapsed": true
   },
   "outputs": [],
   "source": []
  }
 ],
 "metadata": {
  "kernelspec": {
   "display_name": "Python 2",
   "language": "python",
   "name": "python2"
  },
  "language_info": {
   "codemirror_mode": {
    "name": "ipython",
    "version": 2
   },
   "file_extension": ".py",
   "mimetype": "text/x-python",
   "name": "python",
   "nbconvert_exporter": "python",
   "pygments_lexer": "ipython2",
   "version": "2.7.13"
  }
 },
 "nbformat": 4,
 "nbformat_minor": 2
}
