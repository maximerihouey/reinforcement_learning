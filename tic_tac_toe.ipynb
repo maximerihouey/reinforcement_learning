{
 "cells": [
  {
   "cell_type": "code",
   "execution_count": 81,
   "metadata": {
    "collapsed": true
   },
   "outputs": [],
   "source": [
    "import numpy as np\n",
    "import random\n",
    "import matplotlib.pyplot as plt\n",
    "from collections import defaultdict\n",
    "import pprint\n",
    "\n",
    "from sklearn.linear_model import SGDClassifier\n",
    "from sklearn.neural_network import MLPRegressor"
   ]
  },
  {
   "cell_type": "code",
   "execution_count": 254,
   "metadata": {
    "collapsed": false
   },
   "outputs": [],
   "source": [
    "# Tic tac toe\n",
    "WINNING_COMBINATIONS = [\n",
    "    # horizontal\n",
    "    set([0, 1, 2]),\n",
    "    set([3, 4, 5]),\n",
    "    set([6, 7, 8]),\n",
    "    # vertical\n",
    "    set([0, 3, 6]),\n",
    "    set([1, 4, 7]),\n",
    "    set([2, 5, 8]),\n",
    "    # diagonal\n",
    "    set([0, 4, 8]),\n",
    "    set([2, 4, 6])\n",
    "]\n",
    "\n",
    "def init_state():\n",
    "    return np.array([0]*9)\n",
    "\n",
    "def get_display_value(element):\n",
    "    if element == 0:\n",
    "        return \" \"\n",
    "    elif element == 1:\n",
    "        return \"o\"\n",
    "    elif element == -1:\n",
    "        return \"x\"\n",
    "\n",
    "def display_board(state, blank_line_at_end=False):\n",
    "    for i in range(3):\n",
    "        elements = state[(3*i):(3*i+3)]\n",
    "        print \"|\".join([get_display_value(element) for element in elements])\n",
    "    if blank_line_at_end:\n",
    "        print \"\"\n",
    "\n",
    "def random_action(state, is_player_move):\n",
    "    empty_elements = np.where(state == 0)[0]\n",
    "    if len(empty_elements) > 0:\n",
    "        position = np.random.choice(empty_elements)\n",
    "        new_state = state.copy()\n",
    "        new_state[position] = 1 if is_player_move else -1\n",
    "        return new_state, position, True\n",
    "    else:\n",
    "        print \"AAAAAAAAAAAAAA\"\n",
    "        return new_state, 0, False\n",
    "\n",
    "def game_state(state, is_player_move):\n",
    "    player_piece = 1 if is_player_move else -1\n",
    "    piece_positions = set(np.where(state == player_piece)[0])\n",
    "    for combination in WINNING_COMBINATIONS:\n",
    "        if combination.issubset(piece_positions):\n",
    "            return False, True, False # still_going, player_has_won, is_draw\n",
    "    empty_elements = np.where(state == 0)[0]\n",
    "    if len(empty_elements) > 0:\n",
    "        return True, False, False\n",
    "    return False, False, True\n",
    "\n",
    "def player_next_move(state, qval):\n",
    "    new_state = state.copy()\n",
    "    actions = np.argsort(qval)\n",
    "    actions_argsort = np.argsort(actions)\n",
    "    did_something = False\n",
    "    z = 0\n",
    "    while not did_something:\n",
    "        if state[actions[actions_argsort[z]]] == 0:\n",
    "            action = actions[actions_argsort[z]]\n",
    "            new_state[action] = 1\n",
    "            did_something = True\n",
    "            return new_state, action, did_something\n",
    "        z += 1\n",
    "            \n",
    "def player_move_and_win_check(state, player_is_random):\n",
    "    # Player move\n",
    "    if player_is_random:\n",
    "        new_state, action, did_something = random_action(state, True)\n",
    "    else:\n",
    "        qval = model.predict(state.reshape(-1, 1))\n",
    "        new_state, action, did_something = player_next_move(state, qval)\n",
    "    \n",
    "    still_going, player_has_won, is_draw = game_state(new_state, True)\n",
    "    # Draw/Win check\n",
    "    if is_draw:\n",
    "        # Draw\n",
    "        games.append(0)\n",
    "        if player_is_random:\n",
    "            random_games.append(0)\n",
    "        else:\n",
    "            chosen_games.append(0)\n",
    "        return new_state, action, False, 0\n",
    "    elif player_has_won:\n",
    "        # Player win\n",
    "        games.append(1)\n",
    "        if player_is_random:\n",
    "            random_games.append(1)\n",
    "        else:\n",
    "            chosen_games.append(1)\n",
    "        return new_state, action, False, 1\n",
    "    else:\n",
    "        return new_state, action, True, 0\n",
    "\n",
    "def adversary_move_and_win_check(state, player_is_random):\n",
    "    new_state, action, did_something = random_action(state, False)\n",
    "    still_going, player_has_won, is_draw = game_state(new_state, False)\n",
    "    \n",
    "    if is_draw:\n",
    "        # Draw\n",
    "        games.append(0)\n",
    "        if player_is_random:\n",
    "            random_games.append(0)\n",
    "        else:\n",
    "            chosen_games.append(0)\n",
    "        return new_state, action, False, 0\n",
    "    elif player_has_won:\n",
    "        # Adversary wins\n",
    "        games.append(-1)\n",
    "        if player_is_random:\n",
    "            random_games.append(-1)\n",
    "        else:\n",
    "            chosen_games.append(-1)\n",
    "        return new_state, action, False, -1\n",
    "    else:\n",
    "        return new_state, action, True, 0\n",
    "\n",
    "def add_to_plays_description(player_is_random, player_first, reward, nb_rounds):\n",
    "    play_type = 'random_play' if player_is_random else 'chosen_play'\n",
    "    player_sequence = 'player_first' if player_first else 'player_second'\n",
    "    play_outcome = 'win' if reward > 0 else 'loss' if reward < 0 else 'draw'\n",
    "    plays_description[play_type][player_sequence][play_outcome] += 1\n",
    "    plays_description[play_type][player_sequence]['#rounds'] += nb_rounds"
   ]
  },
  {
   "cell_type": "code",
   "execution_count": 255,
   "metadata": {
    "collapsed": false
   },
   "outputs": [
    {
     "name": "stdout",
     "output_type": "stream",
     "text": [
      "o|o|o\n",
      " |x|x\n",
      " |x|o\n",
      "WINNER\n"
     ]
    }
   ],
   "source": [
    "state = init_state()\n",
    "for i in range(9):\n",
    "    is_player_move = i % 2 == 0\n",
    "    new_state, action, did_something = random_action(state, is_player_move)\n",
    "    still_going, player_has_won, is_draw = game_state(new_state, is_player_move)\n",
    "    \n",
    "    if is_draw:\n",
    "        display_board(new_state)\n",
    "        print \"DRAW\"\n",
    "        break\n",
    "    elif player_has_won:\n",
    "        display_board(new_state)\n",
    "        print \"WINNER\"\n",
    "        break\n",
    "    state = new_state"
   ]
  },
  {
   "cell_type": "code",
   "execution_count": null,
   "metadata": {
    "collapsed": false
   },
   "outputs": [],
   "source": []
  },
  {
   "cell_type": "code",
   "execution_count": null,
   "metadata": {
    "collapsed": false
   },
   "outputs": [],
   "source": []
  },
  {
   "cell_type": "code",
   "execution_count": 269,
   "metadata": {
    "collapsed": false
   },
   "outputs": [
    {
     "data": {
      "text/plain": [
       "((9, 1), (9,))"
      ]
     },
     "execution_count": 269,
     "metadata": {},
     "output_type": "execute_result"
    }
   ],
   "source": [
    "# Initializing model with a first mini-batch\n",
    "model = MLPRegressor(\n",
    "    learning_rate='constant' # invscaling\n",
    ")\n",
    "\n",
    "X_init = init_state().reshape(-1, 1)\n",
    "y_init = init_state()\n",
    "\n",
    "model = model.partial_fit(X_init, y_init)\n",
    "\n",
    "X_init.shape, np.array(y_init).shape"
   ]
  },
  {
   "cell_type": "code",
   "execution_count": null,
   "metadata": {
    "collapsed": false
   },
   "outputs": [],
   "source": []
  },
  {
   "cell_type": "code",
   "execution_count": 270,
   "metadata": {
    "collapsed": false
   },
   "outputs": [
    {
     "data": {
      "text/plain": [
       "array([ 0.00016864,  0.00016864,  0.00016864,  0.00016864,  0.00016864,\n",
       "        0.00016864,  0.00016864,  0.00016864,  0.00016864])"
      ]
     },
     "execution_count": 270,
     "metadata": {},
     "output_type": "execute_result"
    }
   ],
   "source": [
    "model.predict(init_state().reshape(-1, 1))"
   ]
  },
  {
   "cell_type": "code",
   "execution_count": null,
   "metadata": {
    "collapsed": true
   },
   "outputs": [],
   "source": []
  },
  {
   "cell_type": "code",
   "execution_count": null,
   "metadata": {
    "collapsed": false,
    "scrolled": false
   },
   "outputs": [
    {
     "name": "stdout",
     "output_type": "stream",
     "text": [
      ">>>>>> 0\n",
      ">>>>>> 100\n",
      ">>>>>> 200\n",
      ">>>>>> 300\n"
     ]
    }
   ],
   "source": [
    "nb_epochs = 1000\n",
    "logging_rate = int(nb_epochs/10) if int(nb_epochs/10) > 0 else 1\n",
    "random_plays = 0\n",
    "chosen_plays = 0\n",
    "epsilon = 0.5\n",
    "games = []\n",
    "random_games = []\n",
    "chosen_games = []\n",
    "update_stages = defaultdict(int)\n",
    "plays_description = {\n",
    "    'random_play':{\n",
    "        'player_first':{\n",
    "            'win': 0,\n",
    "            'loss': 0,\n",
    "            'draw': 0,\n",
    "            '#rounds': 0\n",
    "        },\n",
    "        'player_second':{\n",
    "            'win': 0,\n",
    "            'loss': 0,\n",
    "            'draw': 0,\n",
    "            '#rounds': 0\n",
    "        }\n",
    "    },\n",
    "    'chosen_play':{\n",
    "        'player_first':{\n",
    "            'win': 0,\n",
    "            'loss': 0,\n",
    "            'draw': 0,\n",
    "            '#rounds': 0\n",
    "        },\n",
    "        'player_second':{\n",
    "            'win': 0,\n",
    "            'loss': 0,\n",
    "            'draw': 0,\n",
    "            '#rounds': 0\n",
    "        }\n",
    "    }\n",
    "}\n",
    "    \n",
    "\n",
    "for i in range(nb_epochs):\n",
    "    \n",
    "    # Initializing the game\n",
    "    state = init_state()\n",
    "    tmp_states = []\n",
    "    still_going = True\n",
    "    reward = 0\n",
    "    update = 0\n",
    "    player_is_random = random.random() < epsilon\n",
    "    player_first = np.random.choice([True, False])\n",
    "    if player_is_random:\n",
    "        random_plays += 1\n",
    "    else:\n",
    "        chosen_plays += 1\n",
    "    \n",
    "    if i % logging_rate == 0:\n",
    "        print \">>>>>> \"+str(i)\n",
    "#         print \">>>>>> \"+str(i)+\" | random: \"+str(player_is_random)+\" | first: \"+str(player_first)\n",
    "        \n",
    "    # Playing\n",
    "    while still_going:\n",
    "        \n",
    "        if player_first:\n",
    "            # Player move and win check\n",
    "            middle_state, action, still_going, reward = player_move_and_win_check(state, player_is_random)\n",
    "            \n",
    "            # Continue if no win\n",
    "            if still_going:\n",
    "                # Adversary move and win check\n",
    "                new_state, adversary_action, still_going, reward = adversary_move_and_win_check(middle_state, player_is_random)\n",
    "            else:\n",
    "                new_state = middle_state\n",
    "            considered_state = state\n",
    "        else:\n",
    "            # Adversary move and win check\n",
    "            middle_state, adversary_action, still_going, reward = adversary_move_and_win_check(state, player_is_random)\n",
    "            \n",
    "            # Continue if no win\n",
    "            if still_going:\n",
    "                # Adversary move and win check\n",
    "                new_state, action, still_going, reward = player_move_and_win_check(middle_state, player_is_random)\n",
    "            else:\n",
    "                new_state = middle_state\n",
    "            \n",
    "            considered_state = middle_state\n",
    "        \n",
    "        # Machine learning\n",
    "        tmp_states.append([considered_state.copy(), action.copy()])\n",
    "        if not still_going:\n",
    "#             display_board(new_state)\n",
    "#             print 'WINNER' if reward > 0 else 'LOSER' if reward < 0 else 'DRAW'\n",
    "            add_to_plays_description(player_is_random, player_first, reward, len(tmp_states))\n",
    "            \n",
    "            for tmp_state, tmp_action in tmp_states:\n",
    "                y = np.zeros(9)\n",
    "                y[tmp_action] = reward #/ float(len(tmp_states))\n",
    "                model.partial_fit(tmp_state.reshape(-1, 1), y)\n",
    "        \n",
    "        state = new_state\n",
    "\n",
    "# Statistical descriptions\n",
    "print \"===========================================\"\n",
    "games_np = np.array(games)\n",
    "print \"wins: \"+str(np.sum(games_np == 1))+\" | losses: \"+str(np.sum(games_np == -1))+\" | draws: \"+str(np.sum(games_np == 0))\n",
    "print \"random plays: \"+str(random_plays)+\" | chosen plays: \"+str(chosen_plays)\n",
    "pprint.PrettyPrinter(indent=4).pprint(plays_description)"
   ]
  },
  {
   "cell_type": "code",
   "execution_count": 266,
   "metadata": {
    "collapsed": false
   },
   "outputs": [
    {
     "data": {
      "image/png": "[encoded data removed]",
      "text/plain": [
       "<matplotlib.figure.Figure at 0x7f7b34bc18d0>"
      ]
     },
     "metadata": {},
     "output_type": "display_data"
    },
    {
     "data": {
      "image/png": "[encoded data removed]",
      "text/plain": [
       "<matplotlib.figure.Figure at 0x7f7b34b76110>"
      ]
     },
     "metadata": {},
     "output_type": "display_data"
    }
   ],
   "source": [
    "plt.figure(1)\n",
    "plt.plot(np.cumsum(games))\n",
    "\n",
    "plt.figure(2)\n",
    "plt.plot(np.cumsum(random_games), label=\"random\")\n",
    "plt.plot(np.cumsum(chosen_games), label=\"chosen\")\n",
    "plt.legend(loc=0)\n",
    "\n",
    "plt.show()"
   ]
  },
  {
   "cell_type": "code",
   "execution_count": null,
   "metadata": {
    "collapsed": false
   },
   "outputs": [],
   "source": []
  },
  {
   "cell_type": "code",
   "execution_count": 267,
   "metadata": {
    "collapsed": false
   },
   "outputs": [
    {
     "name": "stdout",
     "output_type": "stream",
     "text": [
      "o|x| \n",
      "o|x| \n",
      " | | \n",
      "\n",
      "o|x|o\n",
      "o|x| \n",
      " | | \n",
      "\n"
     ]
    }
   ],
   "source": [
    "board_example = np.array([1, -1, 0, 1, -1, 0, 0, 0, 0])\n",
    "display_board(board_example, blank_line_at_end=True)\n",
    "\n",
    "# One move\n",
    "qval = model.predict(board_example.reshape(-1, 1))\n",
    "new_state, action, did_something = player_next_move(board_example, qval)\n",
    "\n",
    "display_board(new_state, blank_line_at_end=True)"
   ]
  },
  {
   "cell_type": "code",
   "execution_count": 268,
   "metadata": {
    "collapsed": false
   },
   "outputs": [
    {
     "name": "stdout",
     "output_type": "stream",
     "text": [
      " | | \n",
      " | | \n",
      " | | \n",
      "\n",
      "o| | \n",
      " | | \n",
      " | | \n",
      "\n"
     ]
    }
   ],
   "source": [
    "board_example = init_state()\n",
    "display_board(board_example, blank_line_at_end=True)\n",
    "\n",
    "# One move\n",
    "qval = model.predict(board_example.reshape(-1, 1))\n",
    "new_state, action, did_something = player_next_move(board_example, qval)\n",
    "\n",
    "display_board(new_state, blank_line_at_end=True)"
   ]
  },
  {
   "cell_type": "code",
   "execution_count": null,
   "metadata": {
    "collapsed": true
   },
   "outputs": [],
   "source": [
    "for tmp_state, tmp_action in tmp_states:\n",
    "    y = np.zeros(9)\n",
    "    y[tmp_action] = reward #/ float(len(tmp_states))\n",
    "    print tmp_state.reshape(-1, 1)\n",
    "    print y\n",
    "    "
   ]
  }
 ],
 "metadata": {
  "kernelspec": {
   "display_name": "Python 2",
   "language": "python",
   "name": "python2"
  },
  "language_info": {
   "codemirror_mode": {
    "name": "ipython",
    "version": 2
   },
   "file_extension": ".py",
   "mimetype": "text/x-python",
   "name": "python",
   "nbconvert_exporter": "python",
   "pygments_lexer": "ipython2",
   "version": "2.7.13"
  }
 },
 "nbformat": 4,
 "nbformat_minor": 2
}
