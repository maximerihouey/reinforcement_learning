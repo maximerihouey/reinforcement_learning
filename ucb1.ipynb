{
 "cells": [
  {
   "cell_type": "code",
   "execution_count": 8,
   "metadata": {
    "collapsed": false
   },
   "outputs": [],
   "source": [
    "import numpy as np\n",
    "import matplotlib.pyplot as plt\n",
    "%matplotlib inline "
   ]
  },
  {
   "cell_type": "code",
   "execution_count": 11,
   "metadata": {
    "collapsed": true
   },
   "outputs": [],
   "source": [
    "class Bandit:\n",
    "    def __init__(self, m):\n",
    "        self.m = m\n",
    "        self.mean = 0\n",
    "        self.N = 0\n",
    "    \n",
    "    def pull(self):\n",
    "        drawn_value = np.random.randn() + self.m\n",
    "        # update\n",
    "        self.N += 1\n",
    "        self.mean = (1.0 - (1.0/self.N))*self.mean + (1.0/self.N)*drawn_value\n",
    "        return drawn_value"
   ]
  },
  {
   "cell_type": "code",
   "execution_count": 29,
   "metadata": {
    "collapsed": false
   },
   "outputs": [
    {
     "name": "stdout",
     "output_type": "stream",
     "text": [
      "1.0 / 0.5009415804891345 / 4\n",
      "2.0 / 1.9957206567631494 / 11\n",
      "3.0 / 3.014449494239813 / 985\n"
     ]
    },
    {
     "name": "stderr",
     "output_type": "stream",
     "text": [
      "/home/maxime/anaconda2/envs/py34/lib/python3.4/site-packages/ipykernel/__main__.py:8: RuntimeWarning: divide by zero encountered in log\n",
      "/home/maxime/anaconda2/envs/py34/lib/python3.4/site-packages/ipykernel/__main__.py:8: RuntimeWarning: invalid value encountered in sqrt\n"
     ]
    },
    {
     "data": {
      "image/png": "[encoded data removed]",
      "text/plain": [
       "<matplotlib.figure.Figure at 0x7f670e5d2ac8>"
      ]
     },
     "metadata": {},
     "output_type": "display_data"
    }
   ],
   "source": [
    "bandits = [Bandit(1.0), Bandit(2.0), Bandit(3.0)]\n",
    "M = len(bandits)\n",
    "N = 1000\n",
    "\n",
    "data = np.empty(N)\n",
    "\n",
    "for i in range(N):\n",
    "    j = np.argmax([(bandit.mean + np.sqrt(2*np.log(i)/(bandit.N if bandit.N != 0 else 0.1))) for bandit in bandits])\n",
    "    x = bandits[j].pull()\n",
    "    data[i] = x\n",
    "\n",
    "# plots\n",
    "cumulative_average = np.cumsum(data) / (np.arange(N) + 1)\n",
    "plt.plot(cumulative_average)\n",
    "\n",
    "# written outputs\n",
    "print(\"\\n\".join([\"{} / {} / {}\".format(bandit.m, bandit.mean, bandit.N) for bandit in bandits]))"
   ]
  },
  {
   "cell_type": "code",
   "execution_count": 7,
   "metadata": {
    "collapsed": false
   },
   "outputs": [
    {
     "data": {
      "text/plain": [
       "2.3025850929940459"
      ]
     },
     "execution_count": 7,
     "metadata": {},
     "output_type": "execute_result"
    }
   ],
   "source": [
    "np.log(10)"
   ]
  },
  {
   "cell_type": "code",
   "execution_count": null,
   "metadata": {
    "collapsed": true
   },
   "outputs": [],
   "source": []
  }
 ],
 "metadata": {
  "kernelspec": {
   "display_name": "Python 3",
   "language": "python",
   "name": "python3"
  },
  "language_info": {
   "codemirror_mode": {
    "name": "ipython",
    "version": 3
   },
   "file_extension": ".py",
   "mimetype": "text/x-python",
   "name": "python",
   "nbconvert_exporter": "python",
   "pygments_lexer": "ipython3",
   "version": "3.4.5"
  }
 },
 "nbformat": 4,
 "nbformat_minor": 2
}
